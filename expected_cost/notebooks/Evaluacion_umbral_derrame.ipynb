{
  "cells": [
    {
      "attachments": {},
      "cell_type": "markdown",
      "metadata": {
        "id": "nYQvwkIgcbGN"
      },
      "source": [
        "### Imports"
      ]
    },
    {
      "cell_type": "code",
      "execution_count": 1,
      "metadata": {},
      "outputs": [],
      "source": [
        "import numpy as np\n",
        "import pandas as pd\n",
        "\n",
        "import matplotlib as mpl\n",
        "import matplotlib.pyplot as plt"
      ]
    },
    {
      "cell_type": "code",
      "execution_count": 2,
      "metadata": {},
      "outputs": [],
      "source": [
        "import scipy.stats\n",
        "from scipy import interpolate\n",
        "from scipy.special import expit, logit, logsumexp \n",
        "from scipy.optimize import minimize, minimize_scalar, brentq"
      ]
    },
    {
      "cell_type": "code",
      "execution_count": 3,
      "metadata": {},
      "outputs": [],
      "source": [
        "from IPython import embed\n",
        "\n",
        "from sklearn.metrics import *\n",
        "from sklearn.model_selection import train_test_split"
      ]
    },
    {
      "cell_type": "code",
      "execution_count": 4,
      "metadata": {},
      "outputs": [],
      "source": [
        "import os\n",
        "import re\n",
        "import sys"
      ]
    },
    {
      "cell_type": "code",
      "execution_count": 5,
      "metadata": {},
      "outputs": [],
      "source": [
        "import sys\n",
        "sys.path += [\"../../\", \"../\", \"../../../\"]\n",
        "from expected_cost import ec, utils"
      ]
    },
    {
      "cell_type": "code",
      "execution_count": 6,
      "metadata": {
        "colab": {
          "base_uri": "https://localhost:8080/"
        },
        "id": "hOr5kRgCJ1KD",
        "outputId": "fe9af87e-b09f-4695-841a-09c90f466280"
      },
      "outputs": [],
      "source": [
        "from psrcal.calibration import *"
      ]
    },
    {
      "attachments": {},
      "cell_type": "markdown",
      "metadata": {
        "id": "CBFICw-Fw6OY"
      },
      "source": [
        "## Funciones"
      ]
    },
    {
      "cell_type": "code",
      "execution_count": 7,
      "metadata": {
        "id": "31GoKSQxwAb1"
      },
      "outputs": [],
      "source": [
        "def cross_entropy(pos, neg, pos_prior=0.5, deriv=False):\n",
        "    baseline = -pos_prior * np.log(pos_prior) - (1 - pos_prior) * np.log(1 - pos_prior)\n",
        "    logitprior = logit(pos_prior)\n",
        "    if not deriv:\n",
        "        pos = np.mean(softplus(-pos - logitprior))\n",
        "        neg = np.mean(softplus(neg + logitprior))\n",
        "        return (pos_prior * pos + (1 - pos_prior) * neg) / baseline\n",
        "\n",
        "    pos, back1 = softplus(- pos - logitprior, deriv=True)\n",
        "    neg, back2 = softplus(neg + logitprior, deriv=True)\n",
        "    k1 = pos_prior / (len(pos) * baseline)\n",
        "    k2 = (1 - pos_prior) / (len(neg) * baseline)\n",
        "    y = k1 * pos.sum() + k2 * neg.sum()\n",
        "\n",
        "    def back(dy):\n",
        "        dtar = back1(-dy * k1)\n",
        "        dnon = back2(dy * k2)\n",
        "        return dtar, dnon\n",
        "\n",
        "    return y, back\n",
        "\n",
        "def cs_softplus(x):\n",
        "    \"\"\"numerically stable and complex-step-friendly version of:\n",
        "       softplus = log( 1 + exp(x) )\n",
        "    \"\"\"\n",
        "    if not np.iscomplexobj(x):\n",
        "        return np.log1p(np.exp(-np.abs(x))) + np.maximum(x, 0)\n",
        "    # return np.log( 1 + np.exp(x) )\n",
        "    rx = np.real(x)\n",
        "    y = cs_softplus(rx)\n",
        "    return y + 1.0j * expit(rx) * np.imag(x)\n",
        "\n",
        "def cs_sigmoid(x):\n",
        "    \"\"\"numerically stable and complex-step-friendly version of sigmoid\"\"\"\n",
        "    if not np.iscomplexobj(x): return expit(x)\n",
        "    rx = np.real(x)\n",
        "    p, q = expit(rx), expit(-rx)\n",
        "    return p + 1.0j * p * q * np.imag(x)\n",
        "\n",
        "def softplus(x, deriv=False):\n",
        "    y = cs_softplus(x)\n",
        "    if not deriv: return y\n",
        "\n",
        "    dydx = cs_sigmoid(x)\n",
        "\n",
        "    def back(dy): return dy * dydx\n",
        "\n",
        "    return y, back\n",
        "\n",
        "def optobjective(f, trans=None, sign=1.0, **kwargs):\n",
        "    \"\"\"Wrapper for f to turn it into a minimization objective.\n",
        "    The objective is:\n",
        "        obj(x) = sign*f(*trans(x),**kwargs)\n",
        "    where f can take multiple inputs and has a scalar output.\n",
        "    The input x is a vector.\n",
        "    Both f(...,deriv=True) and trans(...) return backpropagation\n",
        "    handles, but obj(x) immediately returns value, gradient.\n",
        "    \"\"\"\n",
        "    if not trans is None:\n",
        "        def obj(x):\n",
        "            *args, back1 = trans(x, deriv=True)\n",
        "            y, back2 = f(*args, deriv=True, **kwargs)\n",
        "            g = back1(*back2(sign))\n",
        "            return sign * y, g\n",
        "    else:\n",
        "        def obj(x):\n",
        "            y, back2 = f(x, deriv=True, **kwargs)\n",
        "            g = back2(sign)\n",
        "            return sign * y, g\n",
        "\n",
        "    return obj\n",
        "\n",
        "def trans(a, b, *, x, deriv=False):\n",
        "    if not deriv:\n",
        "        return a * x + b\n",
        "\n",
        "    def back(dy):\n",
        "        da = dy @ x\n",
        "        db = dy.sum()\n",
        "        return da, db\n",
        "\n",
        "    return a * x + b, back\n",
        "\n",
        "def obj(params, *, pos_scores, neg_scores, positive_prior=0.5, deriv=False):\n",
        "    a, b = params\n",
        "    if not deriv:\n",
        "        return cross_entropy(trans(a, b, x=pos_scores),\n",
        "                             trans(a, b, x=neg_scores),\n",
        "                             pos_prior=positive_prior)\n",
        "    t, back1 = trans(a, b, x=pos_scores, deriv=True)\n",
        "    n, back2 = trans(a, b, x=neg_scores, deriv=True)\n",
        "    y, back3 = cross_entropy(t, n, pos_prior=positive_prior, deriv=True)\n",
        "\n",
        "    def back(dy):\n",
        "        dt, dn = back3(dy)\n",
        "        da, db = back2(dn)\n",
        "        da2, db2 = back1(dt)\n",
        "        return np.array([da + da2, db + db2])\n",
        "\n",
        "    return y, back"
      ]
    },
    {
      "cell_type": "code",
      "execution_count": 8,
      "metadata": {
        "id": "nXVWOsQfw5mC"
      },
      "outputs": [],
      "source": [
        "def plot_vertical_line(x, ylim, style, label, ax):\n",
        "    ax.plot([x,x], ylim, style, label=label)\n",
        "\n",
        "def value_at_thr(values, thrs, sel_thr):\n",
        "    # Encuentro el valor thrs que está más cerca de sel_thr\n",
        "    # y luego busco en values el que corresponde\n",
        "    i = np.argmin(np.abs(np.array(thrs)-sel_thr))\n",
        "    return values[i]\n",
        "\n",
        "def get_expected_costs(y_true, y_pred, positive_prior, cost_matrix):\n",
        "  priors = np.array([1-positive_prior , positive_prior])\n",
        "  neg_scores = y_pred[y_true==0]\n",
        "  pos_scores = y_pred[y_true==1]\n",
        "  N0 = len(neg_scores)\n",
        "  N1 = len(pos_scores) \n",
        "  K = N0 + N1   \n",
        "  # Cantidad de muestras de la clase 0 con un score mayor al umbral (thr) \n",
        "  K01 = np.sum(neg_scores==1)\n",
        "  # Cantidad de muestras de la clase 1 con un score menor al umbral (thr) \n",
        "  K10 = np.sum(pos_scores==0)\n",
        "  K11 = np.sum(pos_scores==1)\n",
        "  K00 = np.sum(neg_scores==0)\n",
        "  assert K01 + K10 + K11 + K00 == K\n",
        "  assert K01 + K00 == N0\n",
        "  assert K10 + K11 == N1\n",
        "  # Este método calcula la tasa de error para cada clase y decisión\n",
        "  R = utils.compute_R_matrix_from_counts_for_binary_classif(K01, K10, N0, N1)\n",
        "\n",
        "  # ECA usa las priors en los datos # AHORA NO TIENE LOS PRIORS EN LOS DATOS\n",
        "  EC = ec.average_cost_from_confusion_matrix(R, priors, ec.CostMatrix(cost_matrix), adjusted=False) #Ojo que con adjusted=True es el NEC\n",
        "  NEC = ec.average_cost_from_confusion_matrix(R, priors, ec.CostMatrix(cost_matrix), adjusted=True)\n",
        "  return EC, NEC\n",
        "\n",
        "def add_EC(dataset, score, datasets, real_prior, cost_matrix, use_calib=False):\n",
        "  if use_calib:\n",
        "    scores = datasets[dataset]['after_cal'][score]['LLR']\n",
        "  else:\n",
        "    scores = datasets[dataset][score]['LLR']\n",
        "\n",
        "  thrs = np.arange(scores.min(), scores.max(), (scores.max()-scores.min())/1000) \n",
        "  datasets[dataset][score]['thresholds'] = thrs\n",
        "  EC = np.zeros(len(thrs))\n",
        "  NEC = np.zeros(len(thrs))\n",
        "  priors = np.array([1-real_prior , real_prior])\n",
        "  neg_scores = scores[datasets[dataset]['targets']==0]\n",
        "  pos_scores = scores[datasets[dataset]['targets']==1]\n",
        "  N0 = len(neg_scores)\n",
        "  N1 = len(pos_scores) \n",
        "  K = N0 + N1  \n",
        "  for i,thr in enumerate(thrs):  \n",
        "    # Cantidad de muestras de la clase 0 con un score mayor al umbral (thr) \n",
        "    K01 = np.sum(neg_scores>=thr)\n",
        "    # Cantidad de muestras de la clase 1 con un score menor al umbral (thr) \n",
        "    K10 = np.sum(pos_scores<thr)\n",
        "    K11 = np.sum(pos_scores>=thr)\n",
        "    K00 = np.sum(neg_scores<thr)\n",
        "    assert K01 + K10 + K11 + K00 == K\n",
        "    assert K01 + K00 == N0\n",
        "    assert K10 + K11 == N1\n",
        "    # Este método calcula la tasa de error para cada clase y decisión\n",
        "    R = utils.compute_R_matrix_from_counts_for_binary_classif(K01, K10, N0, N1)\n",
        "\n",
        "    # ECA usa las priors en los datos # AHORA NO TIENE LOS PRIORS EN LOS DATOS\n",
        "    EC[i] = ec.average_cost_from_confusion_matrix(R, priors, ec.CostMatrix(cost_matrix), adjusted=False) #Ojo que con adjusted=True es el NEC\n",
        "    NEC[i] = ec.average_cost_from_confusion_matrix(R, priors, ec.CostMatrix(cost_matrix), adjusted=True)\n",
        "  datasets[dataset][score]['EC'] = EC\n",
        "  datasets[dataset][score]['NEC'] = NEC\n",
        "  print('Min EC: {:.4f} \\nMin NEC: {:.4f} \\n Min th (best th)={:.4f}'.format(EC.min(), NEC.min(), thrs[np.nanargmin(NEC)]))\n",
        "\n",
        "def plot_cost_and_thrs(dataset, score, datasets, real_prior, cost_matrix):\n",
        "  cost_matrix = ec.CostMatrix(cost_matrix)\n",
        "  colors = {'EC': 'b', \n",
        "            'NEC':'orange'}\n",
        "  fig, axs = plt.subplots(1,len(colors),figsize=(4*len(colors),3.5))\n",
        "  priors = np.array([1-real_prior , real_prior])\n",
        "  \n",
        "  thrs = datasets[dataset][score]['thresholds'] \n",
        "  EC = datasets[dataset][score]['EC'] \n",
        "  NEC = datasets[dataset][score]['NEC'] \n",
        "\n",
        "  ax_ = 0\n",
        "  for metric, metric_arr in zip(['EC','NEC'],[EC,NEC]) :\n",
        "    axs[ax_].plot(thrs, metric_arr, label=metric, color=colors[metric])\n",
        "    ax_+=1\n",
        "\n",
        "  datasets[dataset][score]['bayes_thr_for_EC'] = utils.bayes_thr_for_llrs(priors, cost_matrix)\n",
        "  datasets[dataset][score]['best_thr_for_EC']  = thrs[np.nanargmin(EC)]\n",
        "  bayes_idx = np.abs(thrs - datasets[dataset][score]['bayes_thr_for_EC']).argmin()\n",
        "\n",
        "  print('Bayes LLR th={:.4f}\\nBayes EC={:.4f}\\nBayes NEC={:.4f}'.format(datasets[dataset][score]['bayes_thr_for_EC'],\n",
        "                                                              EC[bayes_idx],\n",
        "                                                              NEC[bayes_idx]))\n",
        "  # Ploteamos los umbrales obtenidos con Bayes (que coinciden con los óptimos en este caso)\n",
        "  for ax, metric in zip(axs, colors.keys()):\n",
        "    ylim = ax.get_ylim()    \n",
        "    plot_vertical_line(datasets[dataset][score]['bayes_thr_for_EC'], ylim, style='c--',label='Bayes', ax=ax) \n",
        "    plot_vertical_line(datasets[dataset][score]['best_thr_for_EC'], ylim, style='c-',label='Best', ax=ax) \n",
        "    ax.set_xlabel(\"Threshold\")\n",
        "    ax.set_ylabel(metric)\n",
        "    ax.legend(loc='upper right')\n",
        "\n",
        "def binarize_scores(dataset, score, datasets, th_type='bayes'):\n",
        "\n",
        "  scores = datasets[dataset][score]['LLR']\n",
        "  th = datasets[dataset][score][f'{th_type}_thr_for_EC']\n",
        "  print('{} th is LLR={:.4f} LR={:.4f}'.format(th_type, th, np.exp(th)))\n",
        "  datasets[dataset][score][f'{th_type}_binary'] = (scores > th).astype(int)\n",
        "\n",
        "  scores = datasets[dataset]['after_cal'][score]['LLR']\n",
        "  datasets[dataset]['after_cal'][score][f'{th_type}_binary'] = (scores > th).astype(int)\n",
        "\n",
        "def print_classification_metrics(y_true, y_pred, positive_prior=None, cost_matrix=None):\n",
        "  metrics = {}\n",
        "  metrics['binary_CE'] = log_loss(y_true, y_pred)\n",
        "  metrics['binary_roc_auc'] = roc_auc_score(y_true, y_pred)\n",
        "  precision, recall, _ = precision_recall_curve(y_true, y_pred)\n",
        "  metrics['binary_pr_auc'] = auc(recall,precision)\n",
        "  metrics['accuracy'] = accuracy_score(y_true, y_pred)\n",
        "  metrics['precision'] = precision_score(y_true, y_pred)\n",
        "  metrics['recall'] = recall_score(y_true, y_pred)\n",
        "  metrics['f1'] = f1_score(y_true, y_pred)\n",
        "  if positive_prior is not None and cost_matrix is not None:\n",
        "    metrics['EC'], metrics['NEC'] = get_expected_costs(y_true, y_pred, positive_prior, cost_matrix)\n",
        "  c = confusion_matrix(y_true, y_pred)\n",
        "  metrics['specificity'] = c[0][0]/(c[0][1] + c[0][0])\n",
        "  metrics['vpn'] = c[0][0]/(c[1][0] + c[0][0])\n",
        "\n",
        "  print('Classification metrics:')\n",
        "  for key,val in metrics.items():\n",
        "    print(\"{}: {:.4f}\".format(key,val))\n",
        "  return metrics\n",
        "\n",
        "def add_classification_metrics(dataset,score,datasets, use_calib=False, th_type='bayes', positive_prior=None, cost_matrix=None):\n",
        "  if use_calib:\n",
        "    y_pred = datasets[dataset]['after_cal'][score][f'{th_type}_binary']\n",
        "  else:\n",
        "    y_pred = datasets[dataset][score][f'{th_type}_binary']\n",
        "  y_true = datasets[dataset]['targets']\n",
        "  metrics = print_classification_metrics(y_true, y_pred, positive_prior, cost_matrix)\n",
        "  if use_calib:\n",
        "    datasets[dataset]['after_cal'][score][f'{th_type}_binary_metrics'] = metrics\n",
        "  else:\n",
        "    datasets[dataset][score][f'{th_type}_binary_metrics'] = metrics\n",
        "\n",
        "def train_logreg(LLRs, targets, weight_with_positive_prior=None):\n",
        "  \"\"\" Train logistic regression with CE. \n",
        "  If weight_with_positive_prior is defined, it is used to train with WCE\n",
        "  \"\"\"\n",
        "  if weight_with_positive_prior is not None:\n",
        "    trobj = optobjective(obj, sign=1.0,\n",
        "                          pos_scores=LLRs[targets == 1.0],\n",
        "                          neg_scores=LLRs[targets == 0.0],\n",
        "                          positive_prior=weight_with_positive_prior)\n",
        "  else:\n",
        "    trobj = optobjective(obj, sign=1.0,\n",
        "                          pos_scores=LLRs[targets == 1.0],\n",
        "                          neg_scores=LLRs[targets == 0.0])  \n",
        "  result = minimize(trobj, np.array([1.0, 0.0]), method='L-BFGS-B', jac=True)  \n",
        "  parameters = [result.x[0], result.x[1]]\n",
        "  \n",
        "  return parameters"
      ]
    },
    {
      "cell_type": "code",
      "execution_count": 9,
      "metadata": {
        "id": "KwDPL1NHx9i7"
      },
      "outputs": [],
      "source": [
        "def calibrate_and_test(dataset, datasets, scores_options, test_size=None, ):\n",
        "    \n",
        "  datasets[dataset]['after_cal'] = {}\n",
        "  n1 = datasets[dataset]['targets'].sum()\n",
        "  n0 = len(datasets[dataset]['targets'])-n1\n",
        "  print('n0=', n0, '. n1=', n1, '\\n')\n",
        "\n",
        "  for i, score in enumerate(scores_options):\n",
        "    # Calibrate\n",
        "    scores = datasets[dataset][score]['LLR']\n",
        "    targets = datasets[dataset]['targets']\n",
        "    idxs = np.arange(len(scores))\n",
        "\n",
        "    if test_size is not None:\n",
        "      idx_train, idx_test = train_test_split(idxs, random_state=42, test_size=test_size)\n",
        "    else:\n",
        "      # Train with all and test in all:\n",
        "      idx_train = idxs\n",
        "      idx_test = idxs\n",
        "\n",
        "    scores_train = scores[idx_train]\n",
        "    targets_train = targets[idx_train]\n",
        "    scores_test = scores[idx_test]\n",
        "    targets_test = targets[idx_test]    \n",
        "\n",
        "    # Train logreg\n",
        "    parameters = train_logreg(scores_train, targets_train, weight_with_positive_prior=datasets[dataset]['weight_prior'])      \n",
        "\n",
        "    # Save data of regression\n",
        "    datasets[dataset]['after_cal'][score] = {}\n",
        "    datasets[dataset]['after_cal'][score]['conf'] = {'reg_parameters': parameters,\n",
        "                                                     'weight_prior': datasets[dataset]['weight_prior']}\n",
        "\n",
        "    # Apply calibration to all scores and save \n",
        "    calibrated_LLRs = parameters[0] * scores + parameters[1]\n",
        "    datasets[dataset]['after_cal'][score]['LLR'] = calibrated_LLRs\n",
        "  \n",
        "    # Para volver a las posteriors, vuelvo a incorporar la prior de los datos\n",
        "    datasets[dataset]['after_cal'][score]['posteriors'] = expit(calibrated_LLRs + logit(datasets[dataset]['prior_for_LLRposterior_change']))\n",
        "\n",
        "    # Calculate cross entropy in test\n",
        "    orig_ce = log_loss(datasets[dataset]['targets'][idx_test], datasets[dataset][score]['posteriors'][idx_test])\n",
        "    new_ce = log_loss(datasets[dataset]['targets'][idx_test], datasets[dataset]['after_cal'][score]['posteriors'][idx_test])\n",
        "    delta_CE = 100 * (orig_ce-new_ce)/orig_ce\n",
        "    auc = roc_auc_score(datasets[dataset]['targets'], datasets[dataset][score]['LLR'])\n",
        "    print('-------\\n{}\\nAUC full data: {:.4f}\\nOriginal CE in test: {:.4f}. \\nCalibrated CE in test: {:.4f}\\nDeltaEPSR in test={:.4f}%\\nRegression parameters: [{:.4f}, {:.4f}]\\n'.format(score.upper(),auc,\n",
        "                                                                                                                          orig_ce, new_ce, delta_CE, parameters[0], parameters[1]))"
      ]
    },
    {
      "cell_type": "code",
      "execution_count": 10,
      "metadata": {
        "id": "-bqHBJQzy93p"
      },
      "outputs": [],
      "source": [
        "def test_calibrator(calibrator_dataset, tested_dataset, datasets):\n",
        "    \n",
        "  datasets[tested_dataset]['after_cal'] = {}\n",
        "  scores = ['raw_sum', 'lung_normalization']\n",
        "  n1 = datasets[tested_dataset]['targets'].sum()\n",
        "  n0 = len(datasets[tested_dataset]['targets'])-n1\n",
        "  print('n0=', n0, '. n1=', n1)\n",
        "  for i, score in enumerate(scores):\n",
        "    parameters = datasets[calibrator_dataset]['after_cal'][score]['conf']['reg_parameters']\n",
        "    # Apply calibration\n",
        "    scores = datasets[tested_dataset][score]['LLR']\n",
        "    calibrated_LLRs = parameters[0] * scores + parameters[1]\n",
        "    datasets[tested_dataset]['after_cal'][score] = {}\n",
        "    datasets[tested_dataset]['after_cal'][score]['LLR'] = calibrated_LLRs\n",
        "  \n",
        "    # Para volver a las posteriors, vuelvo a incorporar la prior de los datos\n",
        "\n",
        "    datasets[tested_dataset]['after_cal'][score]['posteriors'] = expit(calibrated_LLRs + logit(datasets[tested_dataset]['prior_for_LLRposterior_change']))\n",
        "\n",
        "    # Calcular cross entropy\n",
        "    orig_ce = log_loss(datasets[tested_dataset]['targets'], datasets[tested_dataset][score]['posteriors'])\n",
        "    new_ce = log_loss(datasets[tested_dataset]['targets'], datasets[tested_dataset]['after_cal'][score]['posteriors'])\n",
        "    auc = roc_auc_score(datasets[tested_dataset]['targets'], datasets[tested_dataset][score]['LLR'])\n",
        "    delta_CE = 100 * (orig_ce-new_ce)/orig_ce\n",
        "    print('-------\\n{}\\nAUC: {:.4f}\\nOriginal CE of {}: {:.4f}. \\nCalibrated CE of {}: {:.4f}\\nDeltaEPSR={:.4f}%\\nRegression parameters: [{:.4f}, {:.4f}]\\n'.format(score.upper(), \n",
        "                                                                                                                          auc, tested_dataset, orig_ce,  tested_dataset,\n",
        "                                                                                                                          new_ce, delta_CE, parameters[0], parameters[1]))"
      ]
    },
    {
      "cell_type": "code",
      "execution_count": 11,
      "metadata": {
        "id": "TWg8oVrF2krv"
      },
      "outputs": [],
      "source": [
        "def plot_bef_after(dataset_name, score, datasets, type_='LLR', only_positive=False):\n",
        "  plt.figure()\n",
        "  c, hs = utils.make_hist(datasets[dataset_name]['targets'], datasets[dataset_name][score][type_])\n",
        "  if not only_positive:\n",
        "    plt.plot(c, hs[0], 'r-', label=f\"Original {type_} class=0\")\n",
        "  plt.plot(c, hs[1], 'b-', label=f\"Original {type_} class=1\")\n",
        "\n",
        "  c, hs = utils.make_hist(datasets[dataset_name]['targets'],datasets[dataset_name]['after_cal'][score][type_])\n",
        "  if not only_positive:\n",
        "    plt.plot(c, hs[0], 'r--', label=f\"Calibrated {type_} class=0\")\n",
        "  plt.plot(c, hs[1], 'b--', label=f\"Calibrated {type_} class=1\")  \n",
        "  plt.title(f\"{dataset_name.upper()}\")\n",
        "  plt.legend()\n",
        "  return plt"
      ]
    },
    {
      "attachments": {},
      "cell_type": "markdown",
      "metadata": {
        "id": "qmzmFVnJgm19"
      },
      "source": [
        "# Dataset"
      ]
    },
    {
      "attachments": {},
      "cell_type": "markdown",
      "metadata": {
        "id": "hPTqPOh1tjvk"
      },
      "source": [
        "#### Fuente de datos\n",
        "Las imágenes utilizadas en el proyecto \"Revision derrames\" de Label Studio se generaron con un script de unit testing del proyecto trx-predictor. \n",
        "\n",
        "Se uso el script tests.test_prod_database.TestEffusion\n",
        "\n",
        "Este test selecciona los SOP_INSTANCE_UIDs registrados en el schema del informante (es decir, las imágenes que fueron seleccionadas y procesadas por TRx), se procesan con effusion-detector, y se almacena un subplot de imagen original + heatmap de derrame.\n",
        "\n"
      ]
    },
    {
      "attachments": {},
      "cell_type": "markdown",
      "metadata": {
        "id": "g_gmEaJvJYpZ"
      },
      "source": [
        "#### Planillas\n",
        "En el directorio lxestudios/pacs/T-Rx/DESARROLLO_IA/TRx-v3/Revision derrames/Etiquetado en labelstudios\n",
        "\n",
        "* **check_DP_11_5days.csv**: contiene la información referente a los 495 casos subidos a LabelStudio, que se procesaron con el script de testeo. Se corrió el test para el período de cinco días del 13 al 17 de marzo 2023. Este período es previo a la puesta en producción del nuevo detector. En la planilla se presentan las predicciones del viejo TRx (columna TRX_PROD_SCORE) y del nuevo detector (columna TRX_TEST_SCORE). Como los resultados a veces presentan diferencias, el análisis se basará en los scores de TRX_TEST_SCORE, que se corresponden al modelo que está hoy en producción.\n",
        "\n",
        "* **check_DP_11_DET.csv**: como el script de testeo procesa la imagen desde el url del DCMGEN en lugar de un DICOM descargado, se buscó verificar que no hubiera diferencia significativa en la predicción por este cambio. En esta planilla se presentan los resultados del modelo nuevo (DP_11_DET) para un conjunto de estudios procesados después de la puesta en producción del nuevo predictor, y se comparan con los resultados obtenidos con el script de testeo para ese set de imágenes: se verifica que el effusion-detector registra las mismas predicciones en ambos formatos de imagen (columna DIFF con valores del orden 10^-26).\n",
        "\n",
        "* **project-20-at-2023-03-29-17-30-8de21ba6.csv**: ejemplo de planilla exportada de LabelStudio. Cuando se defina que no se etiquetarán más derrames, volver a exportar las annotations en formato CSV y reemplazar por el archivo actualizado. Se incluye este como ejemplo de cómo joinear la planilla check_DP_11_5days con los resultados de Label Studio.\n",
        "\n",
        "\n",
        "Para usar la notebook, uploadear estas planillas"
      ]
    },
    {
      "cell_type": "code",
      "execution_count": 15,
      "metadata": {
        "id": "GpMSeV3jti7o"
      },
      "outputs": [],
      "source": [
        "df_dataset = pd.read_csv('../dataset/check_DP_11_5days.csv')\n",
        "df_annotations = pd.read_csv('../dataset/project-1-at-2023-05-31-14-54-2ec4ec56.csv')"
      ]
    },
    {
      "attachments": {},
      "cell_type": "markdown",
      "metadata": {
        "id": "p2zBUqjRZaWW"
      },
      "source": [
        "Excluir las imágenes donde se indicó descartar:"
      ]
    },
    {
      "cell_type": "code",
      "execution_count": 16,
      "metadata": {
        "colab": {
          "base_uri": "https://localhost:8080/"
        },
        "id": "qNsiJEQRZfWm",
        "outputId": "a34850e7-54b2-4f97-a48e-8bd9d6f01fc5"
      },
      "outputs": [
        {
          "name": "stdout",
          "output_type": "stream",
          "text": [
            "Se descartan 7 imágenes de 493.\n"
          ]
        }
      ],
      "source": [
        "n = len(df_annotations)\n",
        "df_annotations = df_annotations[pd.isna(df_annotations.invalid)].reset_index(drop=True)\n",
        "print(f\"Se descartan {n - len(df_annotations)} imágenes de {n}.\")"
      ]
    },
    {
      "cell_type": "code",
      "execution_count": 17,
      "metadata": {
        "id": "Smycw2VVtxQf"
      },
      "outputs": [],
      "source": [
        "df_annotations['ACCESSION_NUMBER'] = [int(data_path.split('effusion-heatmaps/')[-1].replace('.png','')) for data_path in df_annotations.img]"
      ]
    },
    {
      "cell_type": "code",
      "execution_count": 18,
      "metadata": {
        "colab": {
          "base_uri": "https://localhost:8080/",
          "height": 275
        },
        "id": "fC0R0ZhvKj63",
        "outputId": "502e5594-69de-457e-9dc1-b0340618c5d2"
      },
      "outputs": [
        {
          "data": {
            "text/html": [
              "<div>\n",
              "<style scoped>\n",
              "    .dataframe tbody tr th:only-of-type {\n",
              "        vertical-align: middle;\n",
              "    }\n",
              "\n",
              "    .dataframe tbody tr th {\n",
              "        vertical-align: top;\n",
              "    }\n",
              "\n",
              "    .dataframe thead th {\n",
              "        text-align: right;\n",
              "    }\n",
              "</style>\n",
              "<table border=\"1\" class=\"dataframe\">\n",
              "  <thead>\n",
              "    <tr style=\"text-align: right;\">\n",
              "      <th></th>\n",
              "      <th>lead_time</th>\n",
              "      <th>confundidores</th>\n",
              "      <th>updated_at</th>\n",
              "      <th>derrame</th>\n",
              "      <th>annotator</th>\n",
              "      <th>created_at</th>\n",
              "      <th>invalid</th>\n",
              "      <th>id</th>\n",
              "      <th>comments</th>\n",
              "      <th>img</th>\n",
              "      <th>...</th>\n",
              "      <th>SOP_INSTANCE_UID</th>\n",
              "      <th>ID_PACIENTE</th>\n",
              "      <th>DATETIME</th>\n",
              "      <th>GLOBAL_RESULT</th>\n",
              "      <th>AIMODEL_ID</th>\n",
              "      <th>TRX_PROD_SCORE</th>\n",
              "      <th>TRX_PROD_PREDICTION</th>\n",
              "      <th>ORIG_IMG_LINK</th>\n",
              "      <th>HEATMAP_LINK</th>\n",
              "      <th>TRX_TEST_SCORE</th>\n",
              "    </tr>\n",
              "  </thead>\n",
              "  <tbody>\n",
              "    <tr>\n",
              "      <th>0</th>\n",
              "      <td>37.818</td>\n",
              "      <td>NaN</td>\n",
              "      <td>2023-04-18T19:10:30.864003Z</td>\n",
              "      <td>NaN</td>\n",
              "      <td>2</td>\n",
              "      <td>2023-04-18T19:10:10.645563Z</td>\n",
              "      <td>NaN</td>\n",
              "      <td>1</td>\n",
              "      <td>NaN</td>\n",
              "      <td>/data/local-files/?d=T-Rx/DESARROLLO_IA/TRx-v3...</td>\n",
              "      <td>...</td>\n",
              "      <td>1.3.12.2.1107.5.4.4.1184.300000230301190914859...</td>\n",
              "      <td>396400</td>\n",
              "      <td>2023-03-13 14:31:55</td>\n",
              "      <td>SIN HALLAZGOS</td>\n",
              "      <td>DP_11</td>\n",
              "      <td>103.800835</td>\n",
              "      <td>0</td>\n",
              "      <td>http://dcmgen.hospitalitaliano.net/dcmgen/serv...</td>\n",
              "      <td>http://dcmgen.hospitalitaliano.net/dcmgen/serv...</td>\n",
              "      <td>47.331306</td>\n",
              "    </tr>\n",
              "    <tr>\n",
              "      <th>1</th>\n",
              "      <td>3.892</td>\n",
              "      <td>NaN</td>\n",
              "      <td>2023-04-18T19:10:52.314711Z</td>\n",
              "      <td>NaN</td>\n",
              "      <td>2</td>\n",
              "      <td>2023-04-18T19:10:52.314638Z</td>\n",
              "      <td>NaN</td>\n",
              "      <td>2</td>\n",
              "      <td>NaN</td>\n",
              "      <td>/data/local-files/?d=T-Rx/DESARROLLO_IA/TRx-v3...</td>\n",
              "      <td>...</td>\n",
              "      <td>1.3.12.2.1107.5.4.4.1184.300000230301190914859...</td>\n",
              "      <td>2811632</td>\n",
              "      <td>2023-03-13 15:04:38</td>\n",
              "      <td>SIN HALLAZGOS</td>\n",
              "      <td>DP_11</td>\n",
              "      <td>229.649170</td>\n",
              "      <td>0</td>\n",
              "      <td>http://dcmgen.hospitalitaliano.net/dcmgen/serv...</td>\n",
              "      <td>http://dcmgen.hospitalitaliano.net/dcmgen/serv...</td>\n",
              "      <td>263.959869</td>\n",
              "    </tr>\n",
              "    <tr>\n",
              "      <th>2</th>\n",
              "      <td>3.145</td>\n",
              "      <td>NaN</td>\n",
              "      <td>2023-04-18T19:11:00.511001Z</td>\n",
              "      <td>NaN</td>\n",
              "      <td>2</td>\n",
              "      <td>2023-04-18T19:11:00.510932Z</td>\n",
              "      <td>NaN</td>\n",
              "      <td>3</td>\n",
              "      <td>NaN</td>\n",
              "      <td>/data/local-files/?d=T-Rx/DESARROLLO_IA/TRx-v3...</td>\n",
              "      <td>...</td>\n",
              "      <td>1.3.12.2.1107.5.4.4.1184.300000230301190914859...</td>\n",
              "      <td>367437</td>\n",
              "      <td>2023-03-13 15:09:44</td>\n",
              "      <td>SIN HALLAZGOS</td>\n",
              "      <td>DP_11</td>\n",
              "      <td>10.415686</td>\n",
              "      <td>0</td>\n",
              "      <td>http://dcmgen.hospitalitaliano.net/dcmgen/serv...</td>\n",
              "      <td>http://dcmgen.hospitalitaliano.net/dcmgen/serv...</td>\n",
              "      <td>20.710388</td>\n",
              "    </tr>\n",
              "    <tr>\n",
              "      <th>3</th>\n",
              "      <td>1.366</td>\n",
              "      <td>NaN</td>\n",
              "      <td>2023-04-18T19:13:13.717059Z</td>\n",
              "      <td>NaN</td>\n",
              "      <td>2</td>\n",
              "      <td>2023-04-18T19:13:13.716990Z</td>\n",
              "      <td>NaN</td>\n",
              "      <td>4</td>\n",
              "      <td>NaN</td>\n",
              "      <td>/data/local-files/?d=T-Rx/DESARROLLO_IA/TRx-v3...</td>\n",
              "      <td>...</td>\n",
              "      <td>1.3.12.2.1107.5.4.4.1184.300000230301190914859...</td>\n",
              "      <td>2391073</td>\n",
              "      <td>2023-03-13 15:11:00</td>\n",
              "      <td>SIN HALLAZGOS</td>\n",
              "      <td>DP_11</td>\n",
              "      <td>0.097144</td>\n",
              "      <td>0</td>\n",
              "      <td>http://dcmgen.hospitalitaliano.net/dcmgen/serv...</td>\n",
              "      <td>http://dcmgen.hospitalitaliano.net/dcmgen/serv...</td>\n",
              "      <td>0.167841</td>\n",
              "    </tr>\n",
              "    <tr>\n",
              "      <th>4</th>\n",
              "      <td>15.876</td>\n",
              "      <td>NaN</td>\n",
              "      <td>2023-04-18T19:13:31.791689Z</td>\n",
              "      <td>derrame_izq</td>\n",
              "      <td>2</td>\n",
              "      <td>2023-04-18T19:13:31.791658Z</td>\n",
              "      <td>NaN</td>\n",
              "      <td>5</td>\n",
              "      <td>NaN</td>\n",
              "      <td>/data/local-files/?d=T-Rx/DESARROLLO_IA/TRx-v3...</td>\n",
              "      <td>...</td>\n",
              "      <td>1.3.12.2.1107.5.4.4.1184.300000230301190914859...</td>\n",
              "      <td>1178980</td>\n",
              "      <td>2023-03-13 15:17:45</td>\n",
              "      <td>CON HALLAZGOS</td>\n",
              "      <td>DP_11</td>\n",
              "      <td>22208.734375</td>\n",
              "      <td>1</td>\n",
              "      <td>http://dcmgen.hospitalitaliano.net/dcmgen/serv...</td>\n",
              "      <td>http://dcmgen.hospitalitaliano.net/dcmgen/serv...</td>\n",
              "      <td>20914.154297</td>\n",
              "    </tr>\n",
              "    <tr>\n",
              "      <th>...</th>\n",
              "      <td>...</td>\n",
              "      <td>...</td>\n",
              "      <td>...</td>\n",
              "      <td>...</td>\n",
              "      <td>...</td>\n",
              "      <td>...</td>\n",
              "      <td>...</td>\n",
              "      <td>...</td>\n",
              "      <td>...</td>\n",
              "      <td>...</td>\n",
              "      <td>...</td>\n",
              "      <td>...</td>\n",
              "      <td>...</td>\n",
              "      <td>...</td>\n",
              "      <td>...</td>\n",
              "      <td>...</td>\n",
              "      <td>...</td>\n",
              "      <td>...</td>\n",
              "      <td>...</td>\n",
              "      <td>...</td>\n",
              "      <td>...</td>\n",
              "    </tr>\n",
              "    <tr>\n",
              "      <th>501</th>\n",
              "      <td>3.270</td>\n",
              "      <td>NaN</td>\n",
              "      <td>2023-05-22T13:05:57.466032Z</td>\n",
              "      <td>derrame_izq</td>\n",
              "      <td>2</td>\n",
              "      <td>2023-05-22T13:05:57.465963Z</td>\n",
              "      <td>NaN</td>\n",
              "      <td>491</td>\n",
              "      <td>NaN</td>\n",
              "      <td>/data/local-files/?d=T-Rx/DESARROLLO_IA/TRx-v3...</td>\n",
              "      <td>...</td>\n",
              "      <td>1.3.12.2.1107.5.4.4.1184.300000230312171302718...</td>\n",
              "      <td>1383489</td>\n",
              "      <td>2023-03-16 22:28:42</td>\n",
              "      <td>CON HALLAZGOS</td>\n",
              "      <td>DP_11</td>\n",
              "      <td>4969.735352</td>\n",
              "      <td>1</td>\n",
              "      <td>http://dcmgen.hospitalitaliano.net/dcmgen/serv...</td>\n",
              "      <td>http://dcmgen.hospitalitaliano.net/dcmgen/serv...</td>\n",
              "      <td>4903.508789</td>\n",
              "    </tr>\n",
              "    <tr>\n",
              "      <th>502</th>\n",
              "      <td>1.326</td>\n",
              "      <td>NaN</td>\n",
              "      <td>2023-05-22T13:05:52.133093Z</td>\n",
              "      <td>NaN</td>\n",
              "      <td>2</td>\n",
              "      <td>2023-05-22T13:05:52.133026Z</td>\n",
              "      <td>NaN</td>\n",
              "      <td>492</td>\n",
              "      <td>NaN</td>\n",
              "      <td>/data/local-files/?d=T-Rx/DESARROLLO_IA/TRx-v3...</td>\n",
              "      <td>...</td>\n",
              "      <td>1.2.840.113564.10017178.20230316224406117930.1...</td>\n",
              "      <td>2785846</td>\n",
              "      <td>2023-03-16 22:58:42</td>\n",
              "      <td>CON HALLAZGOS</td>\n",
              "      <td>DP_11</td>\n",
              "      <td>3228.120361</td>\n",
              "      <td>0</td>\n",
              "      <td>http://dcmgen.hospitalitaliano.net/dcmgen/serv...</td>\n",
              "      <td>http://dcmgen.hospitalitaliano.net/dcmgen/serv...</td>\n",
              "      <td>3541.025635</td>\n",
              "    </tr>\n",
              "    <tr>\n",
              "      <th>503</th>\n",
              "      <td>1.423</td>\n",
              "      <td>NaN</td>\n",
              "      <td>2023-05-22T13:05:48.366264Z</td>\n",
              "      <td>NaN</td>\n",
              "      <td>2</td>\n",
              "      <td>2023-05-22T13:05:48.366197Z</td>\n",
              "      <td>NaN</td>\n",
              "      <td>493</td>\n",
              "      <td>NaN</td>\n",
              "      <td>/data/local-files/?d=T-Rx/DESARROLLO_IA/TRx-v3...</td>\n",
              "      <td>...</td>\n",
              "      <td>1.3.12.2.1107.5.4.4.1184.300000230312171302718...</td>\n",
              "      <td>5012402</td>\n",
              "      <td>2023-03-16 22:49:39</td>\n",
              "      <td>SIN HALLAZGOS</td>\n",
              "      <td>DP_11</td>\n",
              "      <td>2445.140869</td>\n",
              "      <td>0</td>\n",
              "      <td>http://dcmgen.hospitalitaliano.net/dcmgen/serv...</td>\n",
              "      <td>http://dcmgen.hospitalitaliano.net/dcmgen/serv...</td>\n",
              "      <td>2970.671143</td>\n",
              "    </tr>\n",
              "    <tr>\n",
              "      <th>504</th>\n",
              "      <td>1.571</td>\n",
              "      <td>NaN</td>\n",
              "      <td>2023-05-22T13:05:44.824557Z</td>\n",
              "      <td>NaN</td>\n",
              "      <td>2</td>\n",
              "      <td>2023-05-22T13:05:44.824489Z</td>\n",
              "      <td>NaN</td>\n",
              "      <td>494</td>\n",
              "      <td>NaN</td>\n",
              "      <td>/data/local-files/?d=T-Rx/DESARROLLO_IA/TRx-v3...</td>\n",
              "      <td>...</td>\n",
              "      <td>1.2.840.113564.10250012.20230316225045447450.1...</td>\n",
              "      <td>3250141</td>\n",
              "      <td>2023-03-16 23:00:46</td>\n",
              "      <td>CON HALLAZGOS</td>\n",
              "      <td>DP_11</td>\n",
              "      <td>0.480065</td>\n",
              "      <td>0</td>\n",
              "      <td>http://dcmgen.hospitalitaliano.net/dcmgen/serv...</td>\n",
              "      <td>http://dcmgen.hospitalitaliano.net/dcmgen/serv...</td>\n",
              "      <td>1.852962</td>\n",
              "    </tr>\n",
              "    <tr>\n",
              "      <th>505</th>\n",
              "      <td>2.256</td>\n",
              "      <td>NaN</td>\n",
              "      <td>2023-05-22T13:05:41.149587Z</td>\n",
              "      <td>NaN</td>\n",
              "      <td>2</td>\n",
              "      <td>2023-05-22T13:05:41.149518Z</td>\n",
              "      <td>NaN</td>\n",
              "      <td>495</td>\n",
              "      <td>NaN</td>\n",
              "      <td>/data/local-files/?d=T-Rx/DESARROLLO_IA/TRx-v3...</td>\n",
              "      <td>...</td>\n",
              "      <td>1.3.12.2.1107.5.4.4.1184.300000230312171302718...</td>\n",
              "      <td>712062</td>\n",
              "      <td>2023-03-16 23:17:50</td>\n",
              "      <td>SIN HALLAZGOS</td>\n",
              "      <td>DP_11</td>\n",
              "      <td>0.101565</td>\n",
              "      <td>0</td>\n",
              "      <td>http://dcmgen.hospitalitaliano.net/dcmgen/serv...</td>\n",
              "      <td>http://dcmgen.hospitalitaliano.net/dcmgen/serv...</td>\n",
              "      <td>0.041435</td>\n",
              "    </tr>\n",
              "  </tbody>\n",
              "</table>\n",
              "<p>506 rows × 23 columns</p>\n",
              "</div>"
            ],
            "text/plain": [
              "     lead_time confundidores                   updated_at      derrame  \\\n",
              "0       37.818           NaN  2023-04-18T19:10:30.864003Z          NaN   \n",
              "1        3.892           NaN  2023-04-18T19:10:52.314711Z          NaN   \n",
              "2        3.145           NaN  2023-04-18T19:11:00.511001Z          NaN   \n",
              "3        1.366           NaN  2023-04-18T19:13:13.717059Z          NaN   \n",
              "4       15.876           NaN  2023-04-18T19:13:31.791689Z  derrame_izq   \n",
              "..         ...           ...                          ...          ...   \n",
              "501      3.270           NaN  2023-05-22T13:05:57.466032Z  derrame_izq   \n",
              "502      1.326           NaN  2023-05-22T13:05:52.133093Z          NaN   \n",
              "503      1.423           NaN  2023-05-22T13:05:48.366264Z          NaN   \n",
              "504      1.571           NaN  2023-05-22T13:05:44.824557Z          NaN   \n",
              "505      2.256           NaN  2023-05-22T13:05:41.149587Z          NaN   \n",
              "\n",
              "     annotator                   created_at invalid   id comments  \\\n",
              "0            2  2023-04-18T19:10:10.645563Z     NaN    1      NaN   \n",
              "1            2  2023-04-18T19:10:52.314638Z     NaN    2      NaN   \n",
              "2            2  2023-04-18T19:11:00.510932Z     NaN    3      NaN   \n",
              "3            2  2023-04-18T19:13:13.716990Z     NaN    4      NaN   \n",
              "4            2  2023-04-18T19:13:31.791658Z     NaN    5      NaN   \n",
              "..         ...                          ...     ...  ...      ...   \n",
              "501          2  2023-05-22T13:05:57.465963Z     NaN  491      NaN   \n",
              "502          2  2023-05-22T13:05:52.133026Z     NaN  492      NaN   \n",
              "503          2  2023-05-22T13:05:48.366197Z     NaN  493      NaN   \n",
              "504          2  2023-05-22T13:05:44.824489Z     NaN  494      NaN   \n",
              "505          2  2023-05-22T13:05:41.149518Z     NaN  495      NaN   \n",
              "\n",
              "                                                   img  ...  \\\n",
              "0    /data/local-files/?d=T-Rx/DESARROLLO_IA/TRx-v3...  ...   \n",
              "1    /data/local-files/?d=T-Rx/DESARROLLO_IA/TRx-v3...  ...   \n",
              "2    /data/local-files/?d=T-Rx/DESARROLLO_IA/TRx-v3...  ...   \n",
              "3    /data/local-files/?d=T-Rx/DESARROLLO_IA/TRx-v3...  ...   \n",
              "4    /data/local-files/?d=T-Rx/DESARROLLO_IA/TRx-v3...  ...   \n",
              "..                                                 ...  ...   \n",
              "501  /data/local-files/?d=T-Rx/DESARROLLO_IA/TRx-v3...  ...   \n",
              "502  /data/local-files/?d=T-Rx/DESARROLLO_IA/TRx-v3...  ...   \n",
              "503  /data/local-files/?d=T-Rx/DESARROLLO_IA/TRx-v3...  ...   \n",
              "504  /data/local-files/?d=T-Rx/DESARROLLO_IA/TRx-v3...  ...   \n",
              "505  /data/local-files/?d=T-Rx/DESARROLLO_IA/TRx-v3...  ...   \n",
              "\n",
              "                                      SOP_INSTANCE_UID  ID_PACIENTE  \\\n",
              "0    1.3.12.2.1107.5.4.4.1184.300000230301190914859...       396400   \n",
              "1    1.3.12.2.1107.5.4.4.1184.300000230301190914859...      2811632   \n",
              "2    1.3.12.2.1107.5.4.4.1184.300000230301190914859...       367437   \n",
              "3    1.3.12.2.1107.5.4.4.1184.300000230301190914859...      2391073   \n",
              "4    1.3.12.2.1107.5.4.4.1184.300000230301190914859...      1178980   \n",
              "..                                                 ...          ...   \n",
              "501  1.3.12.2.1107.5.4.4.1184.300000230312171302718...      1383489   \n",
              "502  1.2.840.113564.10017178.20230316224406117930.1...      2785846   \n",
              "503  1.3.12.2.1107.5.4.4.1184.300000230312171302718...      5012402   \n",
              "504  1.2.840.113564.10250012.20230316225045447450.1...      3250141   \n",
              "505  1.3.12.2.1107.5.4.4.1184.300000230312171302718...       712062   \n",
              "\n",
              "                DATETIME  GLOBAL_RESULT  AIMODEL_ID TRX_PROD_SCORE  \\\n",
              "0    2023-03-13 14:31:55  SIN HALLAZGOS       DP_11     103.800835   \n",
              "1    2023-03-13 15:04:38  SIN HALLAZGOS       DP_11     229.649170   \n",
              "2    2023-03-13 15:09:44  SIN HALLAZGOS       DP_11      10.415686   \n",
              "3    2023-03-13 15:11:00  SIN HALLAZGOS       DP_11       0.097144   \n",
              "4    2023-03-13 15:17:45  CON HALLAZGOS       DP_11   22208.734375   \n",
              "..                   ...            ...         ...            ...   \n",
              "501  2023-03-16 22:28:42  CON HALLAZGOS       DP_11    4969.735352   \n",
              "502  2023-03-16 22:58:42  CON HALLAZGOS       DP_11    3228.120361   \n",
              "503  2023-03-16 22:49:39  SIN HALLAZGOS       DP_11    2445.140869   \n",
              "504  2023-03-16 23:00:46  CON HALLAZGOS       DP_11       0.480065   \n",
              "505  2023-03-16 23:17:50  SIN HALLAZGOS       DP_11       0.101565   \n",
              "\n",
              "    TRX_PROD_PREDICTION                                      ORIG_IMG_LINK  \\\n",
              "0                     0  http://dcmgen.hospitalitaliano.net/dcmgen/serv...   \n",
              "1                     0  http://dcmgen.hospitalitaliano.net/dcmgen/serv...   \n",
              "2                     0  http://dcmgen.hospitalitaliano.net/dcmgen/serv...   \n",
              "3                     0  http://dcmgen.hospitalitaliano.net/dcmgen/serv...   \n",
              "4                     1  http://dcmgen.hospitalitaliano.net/dcmgen/serv...   \n",
              "..                  ...                                                ...   \n",
              "501                   1  http://dcmgen.hospitalitaliano.net/dcmgen/serv...   \n",
              "502                   0  http://dcmgen.hospitalitaliano.net/dcmgen/serv...   \n",
              "503                   0  http://dcmgen.hospitalitaliano.net/dcmgen/serv...   \n",
              "504                   0  http://dcmgen.hospitalitaliano.net/dcmgen/serv...   \n",
              "505                   0  http://dcmgen.hospitalitaliano.net/dcmgen/serv...   \n",
              "\n",
              "                                          HEATMAP_LINK  TRX_TEST_SCORE  \n",
              "0    http://dcmgen.hospitalitaliano.net/dcmgen/serv...       47.331306  \n",
              "1    http://dcmgen.hospitalitaliano.net/dcmgen/serv...      263.959869  \n",
              "2    http://dcmgen.hospitalitaliano.net/dcmgen/serv...       20.710388  \n",
              "3    http://dcmgen.hospitalitaliano.net/dcmgen/serv...        0.167841  \n",
              "4    http://dcmgen.hospitalitaliano.net/dcmgen/serv...    20914.154297  \n",
              "..                                                 ...             ...  \n",
              "501  http://dcmgen.hospitalitaliano.net/dcmgen/serv...     4903.508789  \n",
              "502  http://dcmgen.hospitalitaliano.net/dcmgen/serv...     3541.025635  \n",
              "503  http://dcmgen.hospitalitaliano.net/dcmgen/serv...     2970.671143  \n",
              "504  http://dcmgen.hospitalitaliano.net/dcmgen/serv...        1.852962  \n",
              "505  http://dcmgen.hospitalitaliano.net/dcmgen/serv...        0.041435  \n",
              "\n",
              "[506 rows x 23 columns]"
            ]
          },
          "execution_count": 18,
          "metadata": {},
          "output_type": "execute_result"
        }
      ],
      "source": [
        "df_joined = df_annotations.merge(df_dataset, on='ACCESSION_NUMBER') # De esta forma nos quedamos solo con los casos que fueron etiquetados\n",
        "df_joined"
      ]
    },
    {
      "cell_type": "code",
      "execution_count": 19,
      "metadata": {
        "colab": {
          "base_uri": "https://localhost:8080/"
        },
        "id": "piz4mKmhKwwf",
        "outputId": "e36f7a09-c9da-45ee-aec5-a598138c028c"
      },
      "outputs": [
        {
          "name": "stdout",
          "output_type": "stream",
          "text": [
            "Se trabajará con 506 casos que fueron etiquetados\n"
          ]
        },
        {
          "data": {
            "text/plain": [
              "GT\n",
              "0    437\n",
              "1     69\n",
              "Name: count, dtype: int64"
            ]
          },
          "execution_count": 19,
          "metadata": {},
          "output_type": "execute_result"
        }
      ],
      "source": [
        "df_joined['GT'] = [0 if pd.isna(derrame) else 1 for derrame in df_joined.derrame]\n",
        "print(f'Se trabajará con {len(df_joined)} casos que fueron etiquetados')\n",
        "df_joined.GT.value_counts(dropna=False)"
      ]
    },
    {
      "attachments": {},
      "cell_type": "markdown",
      "metadata": {
        "id": "eiVStEPyjEIX"
      },
      "source": [
        "#### Distribucion de scores crudos"
      ]
    },
    {
      "cell_type": "code",
      "execution_count": 20,
      "metadata": {
        "colab": {
          "base_uri": "https://localhost:8080/",
          "height": 658
        },
        "id": "xv9jZbaLuDIJ",
        "outputId": "66665f74-93b0-421a-9c1d-f3b32fd6195f"
      },
      "outputs": [
        {
          "name": "stderr",
          "output_type": "stream",
          "text": [
            "C:\\Users\\bruno\\AppData\\Local\\Temp\\ipykernel_18532\\755258492.py:5: UserWarning: \n",
            "\n",
            "`distplot` is a deprecated function and will be removed in seaborn v0.14.0.\n",
            "\n",
            "Please adapt your code to use either `displot` (a figure-level function with\n",
            "similar flexibility) or `histplot` (an axes-level function for histograms).\n",
            "\n",
            "For a guide to updating your code to use the new functions, please see\n",
            "https://gist.github.com/mwaskom/de44147ed2974457ad6372750bbe5751\n",
            "\n",
            "  sns.distplot(df_reduced['score'],kde=False)\n"
          ]
        },
        {
          "data": {
            "text/plain": [
              "<Axes: xlabel='score'>"
            ]
          },
          "execution_count": 20,
          "metadata": {},
          "output_type": "execute_result"
        },
        {
          "data": {
            "image/png": "[encoded data removed]",
            "text/plain": [
              "<Figure size 640x480 with 1 Axes>"
            ]
          },
          "metadata": {},
          "output_type": "display_data"
        }
      ],
      "source": [
        "import seaborn as sns\n",
        "import matplotlib.pyplot as plt\n",
        "df_reduced = df_joined[['ACCESSION_NUMBER','TRX_TEST_SCORE','GT']]\n",
        "df_reduced.columns = ['id','score','GT']\n",
        "sns.distplot(df_reduced['score'],kde=False)"
      ]
    },
    {
      "attachments": {},
      "cell_type": "markdown",
      "metadata": {
        "id": "tVFOO-vJkkO4"
      },
      "source": [
        "(Organizamos así el diccionario porque las funciones son mas flexibles, permiten trabajar con mas de una opcion de fuente de datos, de score, etc):"
      ]
    },
    {
      "cell_type": "code",
      "execution_count": 21,
      "metadata": {
        "id": "_lFkODMwdtQb"
      },
      "outputs": [],
      "source": [
        "datasets = {}\n",
        "\n",
        "datasets['hospital'] = {}\n",
        "\n",
        "datasets['hospital']['targets'] = df_reduced.GT.values\n",
        "\n",
        "# Tipos de priors (en este caso son iguales):\n",
        "datasets['hospital']['prior_of_data'] = df_reduced.GT.value_counts(normalize=True)[1] # prior+\n",
        "\n",
        "\"\"\"Como el set fue tomado prospectivo del ambito real de aplicacion, podemos utilizar \n",
        "la prior del set (es decir, % de clase positiva en el GT), como estimacion de prior_real:\"\"\"\n",
        "datasets['hospital']['prior_real'] = datasets['hospital']['prior_of_data'] \n",
        "\n",
        "# Usos para las priors (pueden variarse):\n",
        "datasets['hospital']['weight_prior'] = datasets['hospital']['prior_of_data'] \n",
        "datasets['hospital']['prior_for_LLRposterior_change'] = datasets['hospital']['prior_real']\n",
        "\n",
        "datasets['hospital']['score'] = {}\n",
        "\n",
        "\"\"\" Consideramos el score como likelihood ratio en vez de posterior, dado que su rango no es [0,1].\n",
        "Es decir, el log likelihood ratio (LLR) es el log del score del effusion-detector\"\"\"\n",
        "datasets['hospital']['score']['LLR'] = np.log(df_reduced.score.values + np.finfo(float).eps)\n",
        "\n",
        "\"\"\"Luego, calculamos lo que serían nuestras posteriors (seguramente muy descalibradas, es decir, \n",
        "seguramente no representan una probabilidad de pertenencia a clase positiva). Las calculamos con los LLR \n",
        "pero incorporandole la prior real\"\"\"\n",
        "datasets['hospital']['score']['posteriors'] = expit(datasets['hospital']['score']['LLR'] + logit(datasets['hospital']['prior_of_data']))\n"
      ]
    },
    {
      "attachments": {},
      "cell_type": "markdown",
      "metadata": {
        "id": "EOQ4ZMrJhI6F"
      },
      "source": [
        "# Calibración"
      ]
    },
    {
      "attachments": {},
      "cell_type": "markdown",
      "metadata": {
        "id": "wmr2TtEGhakc"
      },
      "source": [
        "## Entreno calibrador con una porción de los datos y lo evalúo en los datos restantes"
      ]
    },
    {
      "attachments": {},
      "cell_type": "markdown",
      "metadata": {
        "id": "XZv-InUSRkht"
      },
      "source": [
        "Con una parte de los datos (test_size) ajustamos una regresion lineal minimizando una weighted cross-entropy, que usa como pesos las priors \"weight_prior\". La cross entropy comun, sin weights, equivale a considerar como prior el balance de clase en los datos de ajuste. Notese que en este caso particular seria lo mismo que usar la cross-entropy comun, porque el valor de \"weight_prior\" se calculo como la prior de los datos. \n",
        "\n",
        "Para ver si nuestros scores estaban descalibrados, comparamos el delta de cross-entropy medido en la porcion restante de datos (test) antes y despues de calibrar. "
      ]
    },
    {
      "cell_type": "code",
      "execution_count": 22,
      "metadata": {
        "colab": {
          "base_uri": "https://localhost:8080/"
        },
        "id": "UsB0zo_FhVoq",
        "outputId": "83864267-351c-4450-c153-105c4fdb8c45"
      },
      "outputs": [
        {
          "name": "stdout",
          "output_type": "stream",
          "text": [
            "n0= 437 . n1= 69 \n",
            "\n",
            "-------\n",
            "SCORE\n",
            "AUC full data: 0.9542\n",
            "Original CE in test: 1.6059. \n",
            "Calibrated CE in test: 0.1977\n",
            "DeltaEPSR in test=87.6920%\n",
            "Regression parameters: [0.9909, -7.5831]\n",
            "\n"
          ]
        }
      ],
      "source": [
        "calibrate_and_test('hospital', datasets, scores_options=['score'], test_size=0.5)"
      ]
    },
    {
      "attachments": {},
      "cell_type": "markdown",
      "metadata": {
        "id": "v5JrcZS0TxUP"
      },
      "source": [
        "En el ejemplo simulado, el cross-entropy mejoró en un 94% al calibrar, indicando que los scores están más calibrados luego de transformarlos con la regresión. Esta transformación es sencillamente aplicar combinacion lineal de los regression parameters sobre los LLRs"
      ]
    },
    {
      "attachments": {},
      "cell_type": "markdown",
      "metadata": {
        "id": "34qJ8OYZkMQS"
      },
      "source": [
        "## Ploteo los LLRs antes y después de calibrar"
      ]
    },
    {
      "cell_type": "code",
      "execution_count": 23,
      "metadata": {
        "colab": {
          "base_uri": "https://localhost:8080/",
          "height": 469
        },
        "id": "NQtgWWU-RMEM",
        "outputId": "d14013e0-c106-4d69-ebba-13062cbe28b4"
      },
      "outputs": [
        {
          "data": {
            "text/plain": [
              "<module 'matplotlib.pyplot' from 'd:\\\\ProgramData\\\\miniconda3\\\\envs\\\\derrame_trx\\\\lib\\\\site-packages\\\\matplotlib\\\\pyplot.py'>"
            ]
          },
          "execution_count": 23,
          "metadata": {},
          "output_type": "execute_result"
        },
        {
          "data": {
            "image/png": "[encoded data removed]",
            "text/plain": [
              "<Figure size 640x480 with 1 Axes>"
            ]
          },
          "metadata": {},
          "output_type": "display_data"
        }
      ],
      "source": [
        "plot_bef_after('hospital', 'score', datasets, 'LLR')"
      ]
    },
    {
      "attachments": {},
      "cell_type": "markdown",
      "metadata": {
        "id": "6zPIVUTyULvB"
      },
      "source": [
        "En el ejemplo simulado, vemos como los histogramas linea punteada son una transformacion de los histogramas linea continua, y se han transformado de forma que el umbral de menor costo (con el que nos quedan mejor separadas las áreas) se desplaza"
      ]
    },
    {
      "attachments": {},
      "cell_type": "markdown",
      "metadata": {
        "id": "YlhmN4STkAj-"
      },
      "source": [
        "## Ploteo las posteriors antes y después de calibrar"
      ]
    },
    {
      "cell_type": "code",
      "execution_count": 24,
      "metadata": {
        "colab": {
          "base_uri": "https://localhost:8080/",
          "height": 469
        },
        "id": "jN3v_jK75Rem",
        "outputId": "24554677-d2f7-481d-fa29-d33953faa62b"
      },
      "outputs": [
        {
          "data": {
            "text/plain": [
              "<module 'matplotlib.pyplot' from 'd:\\\\ProgramData\\\\miniconda3\\\\envs\\\\derrame_trx\\\\lib\\\\site-packages\\\\matplotlib\\\\pyplot.py'>"
            ]
          },
          "execution_count": 24,
          "metadata": {},
          "output_type": "execute_result"
        },
        {
          "data": {
            "image/png": "[encoded data removed]",
            "text/plain": [
              "<Figure size 640x480 with 1 Axes>"
            ]
          },
          "metadata": {},
          "output_type": "display_data"
        }
      ],
      "source": [
        "plot_bef_after('hospital', 'score', datasets, 'posteriors')"
      ]
    },
    {
      "attachments": {},
      "cell_type": "markdown",
      "metadata": {
        "id": "e9tetbi1yGfz"
      },
      "source": [
        "## Cálculo de NEC y umbrales óptimos\n",
        "\n",
        "Para calcular el costo esperado (EC) y el costo esperado normalizado (NEC), es necesario definir la prior que esperamos encontrar en la aplicación real (real_prior) y la matriz de costos (definir qué costo es más grave: falso positivo y falso negativo, y en qué medida)"
      ]
    },
    {
      "cell_type": "code",
      "execution_count": 25,
      "metadata": {
        "id": "SoUTQ5OQQwNW"
      },
      "outputs": [],
      "source": [
        "real_prior = datasets['hospital']['prior_real'] # Como definimos arriba, en este caso nuestra prior de datos coincide con la prior real\n",
        "\n",
        "COST_FALSE_NEGATIVE = 1 # Un falso positivo es x veces más costoso que un falso negativo. Aqui simulamos que el falso positivo es mas costoso\n",
        "\n",
        "cost_matrix = [[0,1],[COST_FALSE_NEGATIVE,0]]"
      ]
    },
    {
      "attachments": {},
      "cell_type": "markdown",
      "metadata": {
        "id": "ahP7k3tJT97u"
      },
      "source": [
        "ANTES DE CALIBRAR:"
      ]
    },
    {
      "cell_type": "code",
      "execution_count": 26,
      "metadata": {
        "colab": {
          "base_uri": "https://localhost:8080/",
          "height": 453
        },
        "id": "8hfAGhCeTVl9",
        "outputId": "35e6d5ef-bc48-446d-abe6-a7adafef3005"
      },
      "outputs": [
        {
          "name": "stdout",
          "output_type": "stream",
          "text": [
            "Min EC: 0.0751 \n",
            "Min NEC: 0.5507 \n",
            " Min th (best th)=9.3702\n",
            "Bayes LLR th=1.8458\n",
            "Bayes EC=0.3794\n",
            "Bayes NEC=2.7826\n"
          ]
        },
        {
          "data": {
            "image/png": "[encoded data removed]",
            "text/plain": [
              "<Figure size 800x350 with 2 Axes>"
            ]
          },
          "metadata": {},
          "output_type": "display_data"
        }
      ],
      "source": [
        "add_EC('hospital', 'score', datasets, real_prior,  cost_matrix=cost_matrix)\n",
        "plot_cost_and_thrs('hospital', 'score', datasets, real_prior,  cost_matrix=cost_matrix)"
      ]
    },
    {
      "attachments": {},
      "cell_type": "markdown",
      "metadata": {
        "id": "4FNqiDuMU0b7"
      },
      "source": [
        "Los graficos de costo nos muestran el valor del EC (azul) y del NEC (amarillo) a medida que barremos los posibles umbrales sobre los LLRs (eje horizontal). Notar que el EC y el NEC son proporcionales (curvas iguales) pero el rango del NEC es interpretable. Todos los umbrales donde el NEC>1 significa que hubiesemos tomado mejores decisiones eligiendo en base a la prior sin prestar atención al output del modelo.\n",
        "\n",
        "En el ejemplo simulado, vemos que el umbral que minimiza los costos es para LLR=9.5491\n",
        "\n",
        "En el ejemplo simulado, vemos que el umbral de Bayes no cae exactamente en LLR=0 (que corresponderia a umbralizar en posteriors=0.5). Esto es porque el prior de clase positiva no es 50% y porque los errores no tienen igual costo. \n",
        "\n",
        "Ejercicio: probar como cambiar el ratio de costos y la prior esperada cambian el valor de Bayes LLR th, y como cambian las curvas de costos"
      ]
    },
    {
      "attachments": {},
      "cell_type": "markdown",
      "metadata": {
        "id": "mJEapGtaT_lF"
      },
      "source": [
        " DESPUÉS DE CALIBRAR"
      ]
    },
    {
      "cell_type": "code",
      "execution_count": 27,
      "metadata": {
        "colab": {
          "base_uri": "https://localhost:8080/",
          "height": 453
        },
        "id": "N7rnuLsJTIQe",
        "outputId": "e575811a-c3d0-440f-cf1e-59eb27d315f8"
      },
      "outputs": [
        {
          "name": "stdout",
          "output_type": "stream",
          "text": [
            "Min EC: 0.0751 \n",
            "Min NEC: 0.5507 \n",
            " Min th (best th)=1.7021\n",
            "Bayes LLR th=1.8458\n",
            "Bayes EC=0.0810\n",
            "Bayes NEC=0.5942\n"
          ]
        },
        {
          "data": {
            "image/png": "[encoded data removed]",
            "text/plain": [
              "<Figure size 800x350 with 2 Axes>"
            ]
          },
          "metadata": {},
          "output_type": "display_data"
        }
      ],
      "source": [
        "add_EC('hospital', 'score', datasets, real_prior,  cost_matrix=cost_matrix,use_calib=True)\n",
        "plot_cost_and_thrs('hospital', 'score', datasets, real_prior,  cost_matrix=cost_matrix)"
      ]
    },
    {
      "attachments": {},
      "cell_type": "markdown",
      "metadata": {
        "id": "LZX8iV8oC9Lk"
      },
      "source": [
        "La calibración hace que el umbral de Bayes pase a coincidir con el umbral de menor costo esperado"
      ]
    },
    {
      "attachments": {},
      "cell_type": "markdown",
      "metadata": {
        "id": "6mgWD22eZYvS"
      },
      "source": [
        "Y este umbral de Bayes en LLR, a qué se correspondería en el mundo de probabilidades posterior? Es necesario aplicar la inversa para encontrar la equivalencia del umbral de Bayes en las posteriors:"
      ]
    },
    {
      "cell_type": "code",
      "execution_count": 28,
      "metadata": {
        "colab": {
          "base_uri": "https://localhost:8080/"
        },
        "id": "QNooqIkZQ41S",
        "outputId": "08139d1f-9383-40d8-8e1d-e9c147ab815a"
      },
      "outputs": [
        {
          "name": "stdout",
          "output_type": "stream",
          "text": [
            "Best th in calibrated posteriors domain 0.46412838201445783\n",
            "Bayes th in calibrated posteriors domain 0.5\n"
          ]
        }
      ],
      "source": [
        "bayes_th_as_posterior = expit(datasets['hospital']['score']['bayes_thr_for_EC'] + logit(datasets['hospital']['prior_for_LLRposterior_change']))\n",
        "best_th_as_posterior = expit(datasets['hospital']['score']['best_thr_for_EC'] + logit(datasets['hospital']['prior_for_LLRposterior_change']))\n",
        "print(f'Best th in calibrated posteriors domain {best_th_as_posterior}')\n",
        "print(f'Bayes th in calibrated posteriors domain {bayes_th_as_posterior}')"
      ]
    },
    {
      "attachments": {},
      "cell_type": "markdown",
      "metadata": {
        "id": "pHDAr79oYTZw"
      },
      "source": [
        "El umbral de Bayes es el mejor teorico para cuando los LLRs estan calibrados. Entonces tenemos dos opciones:\n",
        "\n",
        "- Calibramos los LLRs usando los parametros de la regresion lineal que ajustamos, y aplicamos el umbral de Bayes sobre esos LLR para así tener decisiones binarias\n",
        "- Trasladamos el umbral de Bayes al mundo de los LLRs descalibrados. Es decir, le aplicamos la inversa de la regresión lineal que ajustamos. Este nuevo Bayes des-transformado lo podemos aplicar directamente sobre los LLRs crudos sin calibrar, y así tener decisiones binarias\n",
        "\n",
        "\n",
        "Busquemos entonces ese umbral de Bayes des-transformado:"
      ]
    },
    {
      "cell_type": "code",
      "execution_count": 29,
      "metadata": {
        "colab": {
          "base_uri": "https://localhost:8080/"
        },
        "id": "7lFlgoG0YS-g",
        "outputId": "e014865e-8a2c-4015-9952-fffd5f0bb60a"
      },
      "outputs": [
        {
          "name": "stdout",
          "output_type": "stream",
          "text": [
            "Best th in calibrated posteriors domain 5.485417876409235\n",
            "Bayes th in calibrated posteriors domain 6.333333333333334\n"
          ]
        }
      ],
      "source": [
        "bayes_th_as_LR = np.exp(datasets['hospital']['score']['bayes_thr_for_EC']) \n",
        "best_th_as_LR = np.exp(datasets['hospital']['score']['best_thr_for_EC'])\n",
        "print(f'Best th in calibrated posteriors domain {best_th_as_LR}')\n",
        "print(f'Bayes th in calibrated posteriors domain {bayes_th_as_LR}')"
      ]
    },
    {
      "cell_type": "code",
      "execution_count": 30,
      "metadata": {
        "colab": {
          "base_uri": "https://localhost:8080/"
        },
        "id": "d5BVxVF1Uah_",
        "outputId": "4156889b-e808-4ba1-e0ee-f4d6f5484a3d"
      },
      "outputs": [
        {
          "name": "stdout",
          "output_type": "stream",
          "text": [
            "Best th in uncalibrated LR domain 13565.058680614336\n",
            "Bayes th in uncalibrated LR domain 11733.497955415432\n"
          ]
        }
      ],
      "source": [
        "regression_parameters =  datasets['hospital']['after_cal']['score']['conf']['reg_parameters']\n",
        "#calibrated_LLRs = parameters[0] * scores + parameters[1]\n",
        "bayes_th_as_LR_raw = np.exp((datasets['hospital']['score']['bayes_thr_for_EC']-regression_parameters[1])/regression_parameters[0])#  + logit(datasets['hospital']['prior_for_LLRposterior_change']))\n",
        "best_th_as_LR_raw = np.exp((datasets['hospital']['score']['best_thr_for_EC']-regression_parameters[1])/regression_parameters[0]) # + logit(datasets['hospital']['prior_for_LLRposterior_change']))\n",
        "print(f'Best th in uncalibrated LR domain {bayes_th_as_LR_raw}')\n",
        "print(f'Bayes th in uncalibrated LR domain {best_th_as_LR_raw}')"
      ]
    },
    {
      "attachments": {},
      "cell_type": "markdown",
      "metadata": {
        "id": "frcsyYwgj56J"
      },
      "source": [
        "# Evaluación de umbral"
      ]
    },
    {
      "attachments": {},
      "cell_type": "markdown",
      "metadata": {
        "id": "qn-PLmW5WPKw"
      },
      "source": [
        "Vamos a ver cual era el desempeño del umbral de Bayes (umbral teórico) si no hubieramos calibrado, y como cambia el desempeño si aplicamos ese mismo umbral pero en los scores calibrados (i.e., transformados con la regresion lineal)"
      ]
    },
    {
      "cell_type": "code",
      "execution_count": 31,
      "metadata": {
        "colab": {
          "base_uri": "https://localhost:8080/"
        },
        "id": "mE1ocCggZgMq",
        "outputId": "6e9aa2ab-bfa0-4673-bebb-e1bbef82007a"
      },
      "outputs": [
        {
          "name": "stdout",
          "output_type": "stream",
          "text": [
            "bayes th is LLR=1.8458 LR=6.3333\n",
            "\n",
            "BAYES CLASSIFICATION PERFORMANCE WITHOUT CALIBRATION\n",
            "Classification metrics:\n",
            "binary_CE: 13.1059\n",
            "binary_roc_auc: 0.7742\n",
            "binary_pr_auc: 0.6250\n",
            "accuracy: 0.6206\n",
            "precision: 0.2625\n",
            "recall: 0.9855\n",
            "f1: 0.4146\n",
            "EC: 0.3794\n",
            "NEC: 2.7826\n",
            "specificity: 0.5629\n",
            "vpn: 0.9960\n",
            "\n",
            "\n",
            "BAYES CLASSIFICATION PERFORMANCE WITH CALIBRATION\n",
            "Classification metrics:\n",
            "binary_CE: 2.7986\n",
            "binary_roc_auc: 0.8249\n",
            "binary_pr_auc: 0.7215\n",
            "accuracy: 0.9190\n",
            "precision: 0.7059\n",
            "recall: 0.6957\n",
            "f1: 0.7007\n",
            "EC: 0.0810\n",
            "NEC: 0.5942\n",
            "specificity: 0.9542\n",
            "vpn: 0.9521\n"
          ]
        }
      ],
      "source": [
        "binarize_scores('hospital', 'score', datasets,th_type='bayes') #Binarize with Bayes on uncalibrated scores\n",
        "print('\\nBAYES CLASSIFICATION PERFORMANCE WITHOUT CALIBRATION')\n",
        "add_classification_metrics('hospital', 'score', datasets,th_type='bayes',\n",
        "                           positive_prior=real_prior,  cost_matrix=cost_matrix)\n",
        "print('\\n\\nBAYES CLASSIFICATION PERFORMANCE WITH CALIBRATION')\n",
        "add_classification_metrics('hospital', 'score', datasets,th_type='bayes', use_calib=True,\n",
        "                           positive_prior=real_prior,  cost_matrix=cost_matrix) # with Bayes on calibrated scores\n"
      ]
    },
    {
      "attachments": {},
      "cell_type": "markdown",
      "metadata": {
        "id": "mtv1dsZLWchg"
      },
      "source": [
        "Con el ejemplo simulado, vemos que el umbral de Bayes en los scores crudos tenia una sensibilidad perfecta (recall=1) pero muy mala precision (0.32). Es decir, muchos falsos positivos.\n",
        "\n",
        "En cambio, el umbral de Bayes en los scores calibrados presenta una precision muy alta 0.91, a costa de menor recall. Esto es porque indicamos que un falso positivo era mas costoso incluso que un falso negativo, por lo que el umbral de Bayes va a minimizar teniendo eso en cuenta. \n",
        "\n",
        "Para el análisis con datos del etiquetado real, lo importante es comparar si disminuye el cross-entropy y el NEC, que son los proper scoring rules"
      ]
    },
    {
      "attachments": {},
      "cell_type": "markdown",
      "metadata": {
        "id": "zdqOu3ROb9J4"
      },
      "source": [
        "### Umbral actual (3440.5)"
      ]
    },
    {
      "attachments": {},
      "cell_type": "markdown",
      "metadata": {
        "id": "lQz1NS7cZkd7"
      },
      "source": [
        "Evaluamos el desempeño en este subset del umbral actual de TRx, que es ICT=0.5"
      ]
    },
    {
      "cell_type": "code",
      "execution_count": 32,
      "metadata": {
        "colab": {
          "base_uri": "https://localhost:8080/"
        },
        "id": "VVl6-BZ0bD_p",
        "outputId": "e113eb71-cbdf-44f6-ed1c-1e603e6ae113"
      },
      "outputs": [
        {
          "name": "stdout",
          "output_type": "stream",
          "text": [
            "Classification metrics:\n",
            "binary_CE: 3.8226\n",
            "binary_roc_auc: 0.9054\n",
            "binary_pr_auc: 0.7470\n",
            "accuracy: 0.8893\n",
            "precision: 0.5565\n",
            "recall: 0.9275\n",
            "f1: 0.6957\n",
            "EC: 0.1107\n",
            "NEC: 0.8116\n",
            "specificity: 0.8833\n",
            "vpn: 0.9872\n"
          ]
        }
      ],
      "source": [
        "current_th = 3440.5\n",
        "current_metrics = print_classification_metrics(df_reduced.GT.values, df_reduced.score.values > current_th, \n",
        "                                       positive_prior= real_prior, cost_matrix=cost_matrix)"
      ]
    },
    {
      "cell_type": "code",
      "execution_count": 33,
      "metadata": {
        "colab": {
          "base_uri": "https://localhost:8080/"
        },
        "id": "qVxnoqYoDweg",
        "outputId": "208528b9-b85d-42ee-afc6-a5a1cbad07a0"
      },
      "outputs": [
        {
          "data": {
            "text/plain": [
              "9.989198779140866"
            ]
          },
          "execution_count": 33,
          "metadata": {},
          "output_type": "execute_result"
        }
      ],
      "source": [
        "LLR_th_equivalent = np.log(current_th  + np.finfo(float).eps) - logit(real_prior)    \n",
        "LLR_th_equivalent"
      ]
    },
    {
      "attachments": {},
      "cell_type": "markdown",
      "metadata": {
        "id": "IexcnqFQaY7-"
      },
      "source": [
        "Ahora evaluémos nuestro umbral de Bayes trasladado directamente sobre los scores"
      ]
    },
    {
      "cell_type": "code",
      "execution_count": 34,
      "metadata": {
        "colab": {
          "base_uri": "https://localhost:8080/"
        },
        "id": "pb7qSJtJQV2V",
        "outputId": "cf4dfbda-5188-4b4a-fdd0-c2229173067c"
      },
      "outputs": [
        {
          "name": "stdout",
          "output_type": "stream",
          "text": [
            "Classification metrics:\n",
            "binary_CE: 2.7986\n",
            "binary_roc_auc: 0.8249\n",
            "binary_pr_auc: 0.7215\n",
            "accuracy: 0.9190\n",
            "precision: 0.7059\n",
            "recall: 0.6957\n",
            "f1: 0.7007\n",
            "EC: 0.0810\n",
            "NEC: 0.5942\n",
            "specificity: 0.9542\n",
            "vpn: 0.9521\n"
          ]
        }
      ],
      "source": [
        "bayes_metrics = print_classification_metrics(df_reduced.GT.values, \n",
        "                                             df_reduced.score.values > bayes_th_as_LR_raw, \n",
        "                                       positive_prior=real_prior, cost_matrix=cost_matrix)"
      ]
    },
    {
      "cell_type": "code",
      "execution_count": 35,
      "metadata": {
        "colab": {
          "base_uri": "https://localhost:8080/",
          "height": 394
        },
        "id": "q77UXnPuflKi",
        "outputId": "4022b5df-7086-4d8b-b67f-60879a50514c"
      },
      "outputs": [
        {
          "data": {
            "text/html": [
              "<div>\n",
              "<style scoped>\n",
              "    .dataframe tbody tr th:only-of-type {\n",
              "        vertical-align: middle;\n",
              "    }\n",
              "\n",
              "    .dataframe tbody tr th {\n",
              "        vertical-align: top;\n",
              "    }\n",
              "\n",
              "    .dataframe thead th {\n",
              "        text-align: right;\n",
              "    }\n",
              "</style>\n",
              "<table border=\"1\" class=\"dataframe\">\n",
              "  <thead>\n",
              "    <tr style=\"text-align: right;\">\n",
              "      <th></th>\n",
              "      <th>th=3440.50</th>\n",
              "      <th>th=13565.06</th>\n",
              "    </tr>\n",
              "  </thead>\n",
              "  <tbody>\n",
              "    <tr>\n",
              "      <th>Entropía cruzada</th>\n",
              "      <td>3.8226</td>\n",
              "      <td>2.7986</td>\n",
              "    </tr>\n",
              "    <tr>\n",
              "      <th>Costo esperado</th>\n",
              "      <td>0.1107</td>\n",
              "      <td>0.0810</td>\n",
              "    </tr>\n",
              "    <tr>\n",
              "      <th>Costo esperado normalizado</th>\n",
              "      <td>0.8116</td>\n",
              "      <td>0.5942</td>\n",
              "    </tr>\n",
              "    <tr>\n",
              "      <th>AUC-ROC binario</th>\n",
              "      <td>0.9054</td>\n",
              "      <td>0.8249</td>\n",
              "    </tr>\n",
              "    <tr>\n",
              "      <th>AUC-PR binario</th>\n",
              "      <td>0.7470</td>\n",
              "      <td>0.7215</td>\n",
              "    </tr>\n",
              "    <tr>\n",
              "      <th>Exactitud</th>\n",
              "      <td>0.8893</td>\n",
              "      <td>0.9190</td>\n",
              "    </tr>\n",
              "    <tr>\n",
              "      <th>Sensibilidad</th>\n",
              "      <td>0.9275</td>\n",
              "      <td>0.6957</td>\n",
              "    </tr>\n",
              "    <tr>\n",
              "      <th>Especificidad</th>\n",
              "      <td>0.8833</td>\n",
              "      <td>0.9542</td>\n",
              "    </tr>\n",
              "    <tr>\n",
              "      <th>VPP o precisión</th>\n",
              "      <td>0.5565</td>\n",
              "      <td>0.7059</td>\n",
              "    </tr>\n",
              "    <tr>\n",
              "      <th>VPN</th>\n",
              "      <td>0.9872</td>\n",
              "      <td>0.9521</td>\n",
              "    </tr>\n",
              "    <tr>\n",
              "      <th>F1-score</th>\n",
              "      <td>0.6957</td>\n",
              "      <td>0.7007</td>\n",
              "    </tr>\n",
              "  </tbody>\n",
              "</table>\n",
              "</div>"
            ],
            "text/plain": [
              "                            th=3440.50  th=13565.06\n",
              "Entropía cruzada                3.8226       2.7986\n",
              "Costo esperado                  0.1107       0.0810\n",
              "Costo esperado normalizado      0.8116       0.5942\n",
              "AUC-ROC binario                 0.9054       0.8249\n",
              "AUC-PR binario                  0.7470       0.7215\n",
              "Exactitud                       0.8893       0.9190\n",
              "Sensibilidad                    0.9275       0.6957\n",
              "Especificidad                   0.8833       0.9542\n",
              "VPP o precisión                 0.5565       0.7059\n",
              "VPN                             0.9872       0.9521\n",
              "F1-score                        0.6957       0.7007"
            ]
          },
          "execution_count": 35,
          "metadata": {},
          "output_type": "execute_result"
        }
      ],
      "source": [
        "df_comparacion = pd.DataFrame([current_metrics, bayes_metrics])\n",
        "df_comparacion.index=[f'th={current_th:.2f}',f'th={bayes_th_as_LR_raw:.2f}']\n",
        "df_comparacion = df_comparacion[['binary_CE','EC','NEC','binary_roc_auc','binary_pr_auc','accuracy','recall','specificity','precision','vpn','f1']]\n",
        "df_comparacion.columns = ['Entropía cruzada','Costo esperado', 'Costo esperado normalizado','AUC-ROC binario','AUC-PR binario','Exactitud','Sensibilidad',\n",
        "                          'Especificidad','VPP o precisión','VPN','F1-score']\n",
        "df_comparacion.round(4).T"
      ]
    },
    {
      "attachments": {},
      "cell_type": "markdown",
      "metadata": {
        "id": "A7VenHikf8FN"
      },
      "source": [
        "Es importante detenerse a analizar las métricas. \n",
        "\n",
        "No quedarse on el mejor ROC_AUC. Esta métrica es insensible al desbalance: sería un mejor modelo si la prevalencia de derrame fuera de 50%. Dado que no es el caso, toman relevancia métricas como la PR_AUC, precisión o f1 score. Igualmente, estas métricas también tienen limitaciones (ver paper de Luciana!). La métrica más valiosa cuando contamos con la prevalencia y con la matriz de costos es el NEC, así que comparar esa métrica a ver que umbral tiene menor NEC.\n",
        "\n",
        "Como pendiente, quedaría evaluar si la diferencia de NECs es significativa con bootstrap o algún test estadístico. "
      ]
    }
  ],
  "metadata": {
    "colab": {
      "provenance": []
    },
    "kernelspec": {
      "display_name": "Python 3",
      "language": "python",
      "name": "python3"
    },
    "language_info": {
      "codemirror_mode": {
        "name": "ipython",
        "version": 3
      },
      "file_extension": ".py",
      "mimetype": "text/x-python",
      "name": "python",
      "nbconvert_exporter": "python",
      "pygments_lexer": "ipython3",
      "version": "3.8.16"
    },
    "vscode": {
      "interpreter": {
        "hash": "95f689cf9210e05522f35bd069a431986e187c0962f4145f9254e6e8db37beec"
      }
    }
  },
  "nbformat": 4,
  "nbformat_minor": 0
}
